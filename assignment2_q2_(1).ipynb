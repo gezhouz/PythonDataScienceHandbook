{
  "nbformat": 4,
  "nbformat_minor": 0,
  "metadata": {
    "colab": {
      "name": "assignment2_q2 (1).ipynb",
      "version": "0.3.2",
      "provenance": [],
      "include_colab_link": true
    },
    "kernelspec": {
      "display_name": "Python 3",
      "language": "python",
      "name": "python3"
    }
  },
  "cells": [
    {
      "cell_type": "markdown",
      "metadata": {
        "id": "view-in-github",
        "colab_type": "text"
      },
      "source": [
        "[View in Colaboratory](https://colab.research.google.com/github/gezhouz/PythonDataScienceHandbook/blob/master/assignment2_q2_(1).ipynb)"
      ]
    },
    {
      "metadata": {
        "id": "tAmyunNIWL2_",
        "colab_type": "code",
        "colab": {}
      },
      "cell_type": "code",
      "source": [
        "import matplotlib.pyplot as plt\n",
        "from matplotlib.offsetbox import AnnotationBbox, OffsetImage\n",
        "%matplotlib inline\n",
        "import numpy as np\n",
        "from numpy.linalg import *\n",
        "from scipy.io import loadmat\n",
        "import pandas as pd\n",
        "import scipy as sp"
      ],
      "execution_count": 0,
      "outputs": []
    },
    {
      "metadata": {
        "id": "kaeqALq9WL3F",
        "colab_type": "code",
        "colab": {
          "base_uri": "https://localhost:8080/",
          "height": 550
        },
        "outputId": "e2315414-c502-44da-8ae6-3438c340e161"
      },
      "cell_type": "code",
      "source": [
        "X_train = loadmat('Ion.trin.mat')['Xtrain']"
      ],
      "execution_count": 2,
      "outputs": [
        {
          "output_type": "error",
          "ename": "FileNotFoundError",
          "evalue": "ignored",
          "traceback": [
            "\u001b[0;31m---------------------------------------------------------------------------\u001b[0m",
            "\u001b[0;31mFileNotFoundError\u001b[0m                         Traceback (most recent call last)",
            "\u001b[0;32m<ipython-input-2-3c06304a90a7>\u001b[0m in \u001b[0;36m<module>\u001b[0;34m()\u001b[0m\n\u001b[0;32m----> 1\u001b[0;31m \u001b[0mX_train\u001b[0m \u001b[0;34m=\u001b[0m \u001b[0mloadmat\u001b[0m\u001b[0;34m(\u001b[0m\u001b[0;34m'Ion.trin.mat'\u001b[0m\u001b[0;34m)\u001b[0m\u001b[0;34m[\u001b[0m\u001b[0;34m'Xtrain'\u001b[0m\u001b[0;34m]\u001b[0m\u001b[0;34m\u001b[0m\u001b[0m\n\u001b[0m",
            "\u001b[0;32m/usr/local/lib/python3.6/dist-packages/scipy/io/matlab/mio.py\u001b[0m in \u001b[0;36mloadmat\u001b[0;34m(file_name, mdict, appendmat, **kwargs)\u001b[0m\n\u001b[1;32m    133\u001b[0m     \"\"\"\n\u001b[1;32m    134\u001b[0m     \u001b[0mvariable_names\u001b[0m \u001b[0;34m=\u001b[0m \u001b[0mkwargs\u001b[0m\u001b[0;34m.\u001b[0m\u001b[0mpop\u001b[0m\u001b[0;34m(\u001b[0m\u001b[0;34m'variable_names'\u001b[0m\u001b[0;34m,\u001b[0m \u001b[0;32mNone\u001b[0m\u001b[0;34m)\u001b[0m\u001b[0;34m\u001b[0m\u001b[0m\n\u001b[0;32m--> 135\u001b[0;31m     \u001b[0mMR\u001b[0m \u001b[0;34m=\u001b[0m \u001b[0mmat_reader_factory\u001b[0m\u001b[0;34m(\u001b[0m\u001b[0mfile_name\u001b[0m\u001b[0;34m,\u001b[0m \u001b[0mappendmat\u001b[0m\u001b[0;34m,\u001b[0m \u001b[0;34m**\u001b[0m\u001b[0mkwargs\u001b[0m\u001b[0;34m)\u001b[0m\u001b[0;34m\u001b[0m\u001b[0m\n\u001b[0m\u001b[1;32m    136\u001b[0m     \u001b[0mmatfile_dict\u001b[0m \u001b[0;34m=\u001b[0m \u001b[0mMR\u001b[0m\u001b[0;34m.\u001b[0m\u001b[0mget_variables\u001b[0m\u001b[0;34m(\u001b[0m\u001b[0mvariable_names\u001b[0m\u001b[0;34m)\u001b[0m\u001b[0;34m\u001b[0m\u001b[0m\n\u001b[1;32m    137\u001b[0m     \u001b[0;32mif\u001b[0m \u001b[0mmdict\u001b[0m \u001b[0;32mis\u001b[0m \u001b[0;32mnot\u001b[0m \u001b[0;32mNone\u001b[0m\u001b[0;34m:\u001b[0m\u001b[0;34m\u001b[0m\u001b[0m\n",
            "\u001b[0;32m/usr/local/lib/python3.6/dist-packages/scipy/io/matlab/mio.py\u001b[0m in \u001b[0;36mmat_reader_factory\u001b[0;34m(file_name, appendmat, **kwargs)\u001b[0m\n\u001b[1;32m     56\u001b[0m        \u001b[0mtype\u001b[0m \u001b[0mdetected\u001b[0m \u001b[0;32min\u001b[0m\u001b[0;31m \u001b[0m\u001b[0;31m`\u001b[0m\u001b[0mfilename\u001b[0m\u001b[0;31m`\u001b[0m\u001b[0;34m.\u001b[0m\u001b[0;34m\u001b[0m\u001b[0m\n\u001b[1;32m     57\u001b[0m     \"\"\"\n\u001b[0;32m---> 58\u001b[0;31m     \u001b[0mbyte_stream\u001b[0m \u001b[0;34m=\u001b[0m \u001b[0m_open_file\u001b[0m\u001b[0;34m(\u001b[0m\u001b[0mfile_name\u001b[0m\u001b[0;34m,\u001b[0m \u001b[0mappendmat\u001b[0m\u001b[0;34m)\u001b[0m\u001b[0;34m\u001b[0m\u001b[0m\n\u001b[0m\u001b[1;32m     59\u001b[0m     \u001b[0mmjv\u001b[0m\u001b[0;34m,\u001b[0m \u001b[0mmnv\u001b[0m \u001b[0;34m=\u001b[0m \u001b[0mget_matfile_version\u001b[0m\u001b[0;34m(\u001b[0m\u001b[0mbyte_stream\u001b[0m\u001b[0;34m)\u001b[0m\u001b[0;34m\u001b[0m\u001b[0m\n\u001b[1;32m     60\u001b[0m     \u001b[0;32mif\u001b[0m \u001b[0mmjv\u001b[0m \u001b[0;34m==\u001b[0m \u001b[0;36m0\u001b[0m\u001b[0;34m:\u001b[0m\u001b[0;34m\u001b[0m\u001b[0m\n",
            "\u001b[0;32m/usr/local/lib/python3.6/dist-packages/scipy/io/matlab/mio.py\u001b[0m in \u001b[0;36m_open_file\u001b[0;34m(file_like, appendmat)\u001b[0m\n\u001b[1;32m     21\u001b[0m     \u001b[0;32mif\u001b[0m \u001b[0misinstance\u001b[0m\u001b[0;34m(\u001b[0m\u001b[0mfile_like\u001b[0m\u001b[0;34m,\u001b[0m \u001b[0mstring_types\u001b[0m\u001b[0;34m)\u001b[0m\u001b[0;34m:\u001b[0m\u001b[0;34m\u001b[0m\u001b[0m\n\u001b[1;32m     22\u001b[0m         \u001b[0;32mtry\u001b[0m\u001b[0;34m:\u001b[0m\u001b[0;34m\u001b[0m\u001b[0m\n\u001b[0;32m---> 23\u001b[0;31m             \u001b[0;32mreturn\u001b[0m \u001b[0mopen\u001b[0m\u001b[0;34m(\u001b[0m\u001b[0mfile_like\u001b[0m\u001b[0;34m,\u001b[0m \u001b[0;34m'rb'\u001b[0m\u001b[0;34m)\u001b[0m\u001b[0;34m\u001b[0m\u001b[0m\n\u001b[0m\u001b[1;32m     24\u001b[0m         \u001b[0;32mexcept\u001b[0m \u001b[0mIOError\u001b[0m \u001b[0;32mas\u001b[0m \u001b[0me\u001b[0m\u001b[0;34m:\u001b[0m\u001b[0;34m\u001b[0m\u001b[0m\n\u001b[1;32m     25\u001b[0m             \u001b[0;32mif\u001b[0m \u001b[0mappendmat\u001b[0m \u001b[0;32mand\u001b[0m \u001b[0;32mnot\u001b[0m \u001b[0mfile_like\u001b[0m\u001b[0;34m.\u001b[0m\u001b[0mendswith\u001b[0m\u001b[0;34m(\u001b[0m\u001b[0;34m'.mat'\u001b[0m\u001b[0;34m)\u001b[0m\u001b[0;34m:\u001b[0m\u001b[0;34m\u001b[0m\u001b[0m\n",
            "\u001b[0;31mFileNotFoundError\u001b[0m: [Errno 2] No such file or directory: 'Ion.trin.mat'"
          ]
        }
      ]
    },
    {
      "metadata": {
        "id": "wOtY5qKAWL3J",
        "colab_type": "code",
        "colab": {},
        "outputId": "43b71fb3-d951-4893-fc02-437a3fdcfb17"
      },
      "cell_type": "code",
      "source": [
        "X_train.shape"
      ],
      "execution_count": 0,
      "outputs": [
        {
          "output_type": "execute_result",
          "data": {
            "text/plain": [
              "(33, 176)"
            ]
          },
          "metadata": {
            "tags": []
          },
          "execution_count": 3
        }
      ]
    },
    {
      "metadata": {
        "id": "tOd6o2-FWL3P",
        "colab_type": "code",
        "colab": {}
      },
      "cell_type": "code",
      "source": [
        "Y_train = loadmat('Ion.trin.mat')['ytrain']"
      ],
      "execution_count": 0,
      "outputs": []
    },
    {
      "metadata": {
        "id": "6kJ_nz3WWL3S",
        "colab_type": "code",
        "colab": {},
        "outputId": "4cbdadc4-53e5-455c-de07-a8737664bc21"
      },
      "cell_type": "code",
      "source": [
        "Y_train.shape"
      ],
      "execution_count": 0,
      "outputs": [
        {
          "output_type": "execute_result",
          "data": {
            "text/plain": [
              "(176, 1)"
            ]
          },
          "metadata": {
            "tags": []
          },
          "execution_count": 5
        }
      ]
    },
    {
      "metadata": {
        "id": "fkBpLJA_WL3W",
        "colab_type": "code",
        "colab": {},
        "outputId": "48300406-1dc3-450a-b8c4-1712c4bc3729"
      },
      "cell_type": "code",
      "source": [
        "Y_train[0]"
      ],
      "execution_count": 0,
      "outputs": [
        {
          "output_type": "execute_result",
          "data": {
            "text/plain": [
              "array([0], dtype=uint8)"
            ]
          },
          "metadata": {
            "tags": []
          },
          "execution_count": 6
        }
      ]
    },
    {
      "metadata": {
        "id": "7bacKTlYWL3Z",
        "colab_type": "code",
        "colab": {}
      },
      "cell_type": "code",
      "source": [
        "test = loadmat('Ion.test.mat')"
      ],
      "execution_count": 0,
      "outputs": []
    },
    {
      "metadata": {
        "id": "7ytWXiCWWL3b",
        "colab_type": "code",
        "colab": {},
        "outputId": "cc312e1b-07ec-4397-9219-da69a54c3509"
      },
      "cell_type": "code",
      "source": [
        "test['Xtest'].shape"
      ],
      "execution_count": 0,
      "outputs": [
        {
          "output_type": "execute_result",
          "data": {
            "text/plain": [
              "(33, 175)"
            ]
          },
          "metadata": {
            "tags": []
          },
          "execution_count": 8
        }
      ]
    },
    {
      "metadata": {
        "id": "6fnYvLuCWL3e",
        "colab_type": "code",
        "colab": {}
      },
      "cell_type": "code",
      "source": [
        "X_test=test['Xtest']"
      ],
      "execution_count": 0,
      "outputs": []
    },
    {
      "metadata": {
        "id": "sOBBfujBWL3h",
        "colab_type": "code",
        "colab": {}
      },
      "cell_type": "code",
      "source": [
        "Y_test=test[\"ytest\"]"
      ],
      "execution_count": 0,
      "outputs": []
    },
    {
      "metadata": {
        "id": "h726wbzwWL3i",
        "colab_type": "code",
        "colab": {},
        "outputId": "c2299ba1-f82a-4bad-d8c7-65dc0a63cf42"
      },
      "cell_type": "code",
      "source": [
        "Y_test.shape"
      ],
      "execution_count": 0,
      "outputs": [
        {
          "output_type": "execute_result",
          "data": {
            "text/plain": [
              "(175, 1)"
            ]
          },
          "metadata": {
            "tags": []
          },
          "execution_count": 393
        }
      ]
    },
    {
      "metadata": {
        "id": "cfGEIBG_WL3m",
        "colab_type": "code",
        "colab": {}
      },
      "cell_type": "code",
      "source": [
        "a= 1"
      ],
      "execution_count": 0,
      "outputs": []
    },
    {
      "metadata": {
        "id": "0bjUhAfFWL3o",
        "colab_type": "text"
      },
      "cell_type": "markdown",
      "source": [
        "$$\\delta_i= W_{i+1}^T\\delta_{i+1}\\circ f_i^`(W_ix_{i-1})$$\n",
        "where $$\\circ$$  is the Hadamard product"
      ]
    },
    {
      "metadata": {
        "id": "tyjzZLoDWL3o",
        "colab_type": "code",
        "colab": {}
      },
      "cell_type": "code",
      "source": [
        "X_0 = X_train[:,0].reshape(33,1)"
      ],
      "execution_count": 0,
      "outputs": []
    },
    {
      "metadata": {
        "id": "z7nODUZlWL3q",
        "colab_type": "code",
        "colab": {}
      },
      "cell_type": "code",
      "source": [
        "class NN(): #bias = 0 \n",
        "    def __init__(self,layer_dims,lr,alpha,**arg):##layer_dims is the d of each layer\n",
        "        #self.x = x \n",
        "        #self.y = y\n",
        "        self.alpha = alpha\n",
        "        self.lr = lr\n",
        "        self.n_layers = len(layer_dims)\n",
        "        self.weights ={}\n",
        "        self.cache = {}\n",
        "        self.delta = {}\n",
        "        self.train_data = 0\n",
        "        \n",
        "        for n in range(1,self.n_layers):\n",
        "            self.weights['W'+str(n)+str(n+1)] = np.random.randn(layer_dims[n],layer_dims[n-1])*0.01\n",
        "            #self.weights['W'+str(n)+str(n+1)] = np.ones((layer_dims[n],layer_dims[n-1]))*0.001\n",
        "    def sigmoid(self,A):# z is the output after the sigmoid and a is the \n",
        "        Z = 1/(1+np.exp(-A))\n",
        "        return Z\n",
        "    def layer_forward(self,Z_prev,W):\n",
        "        A = np.dot(W,Z_prev)\n",
        "        Z = self.sigmoid(A)\n",
        "        return A, Z\n",
        "    \n",
        "        \n",
        "    def feed_forward(self,train_data):#activation function is sigmoid\n",
        "        self.train_data =train_data\n",
        "        Z = train_data ## start at input layer x\n",
        "        L = len(self.weights)\n",
        "        for n in range(1,L): # for the following layers the latter input = the previous's output\n",
        "            Z_prev = Z\n",
        "            A,Z = self.layer_forward(Z_prev,self.weights['W'+str(n)+str(n+1)])\n",
        "            self.cache['A'+str(n)] = A\n",
        "            self.cache['Z'+str(n)] = Z\n",
        "                \n",
        "        AL,ZL = self.layer_forward(Z,self.weights['W'+str(L)+str(L+1)])\n",
        "        self.cache['AL'] = AL\n",
        "        self.cache['ZL'] = ZL\n",
        "    def dsigmoid(self,A):\n",
        "        return self.sigmoid(A)*(1-self.sigmoid(A))###???\n",
        "    \n",
        "    \n",
        "    def back_propagation(self,y):\n",
        "        yh = self.cache['ZL']\n",
        "        L =len(self.weights)\n",
        "        #self.delta['delta_'+str(L)] = 2*np.linalg.norm(y-yh).reshape(1,1)\n",
        "        self.delta['delta_'+str(L)] = -2*(y-yh).reshape(1,1)\n",
        "        #######what is y is not determined yet\n",
        "        #self.delta['delta_'+str(L)] = 2*abs(y-yh).reshape(1,1)\n",
        "        #self.delta['delta_L'] = 2*np.linalg.norm(1-yh).reshape(1,1)\n",
        "        deltan = self.delta['delta_'+str(L)]\n",
        "        #deltan = self.delta['delta_L']\n",
        "        for n in range(L-1,0,-1):\n",
        "            An = self.cache['A'+str(n)]\n",
        "            Wn = self.weights['W'+str(n+1)+str(n+2)]\n",
        "            #self.delta['delta_'+str(n)] = np.linalg.multi_dot([self.dsigmoid(An),deltan,Wn])\n",
        "            self.delta['delta_'+str(n)] = np.dot(Wn.T,deltan)*self.dsigmoid(An)\n",
        "            deltan =  self.delta['delta_'+str(n)] #8*8\n",
        "        #get all the delta in self.delta\n",
        "\n",
        "            #pass\n",
        "    def weight_update(self):\n",
        "        L = len(self.delta)\n",
        "        for i in range(1,L+1):\n",
        "            if i ==1:\n",
        "                Z_prev = self.train_data\n",
        "                #with weigth decay\n",
        "                #self.weights['W'+str(i)+str(i+1)]=self.weights['W'+str(i)+str(i+1)] - self.lr*self.delta['delta_'+str(i)]@(Z_prev.T)-self.lr*self.alpha*self.weights['W'+str(i)+str(i+1)]\n",
        "                #self.weights['W'+str(i)+str(i+1)]=self.weights['W'+str(i)+str(i+1)] - self.lr*self.delta['delta_'+str(i)]@(Z_prev.T)\n",
        "                self.weights['W'+str(i)+str(i+1)]=(1-self.alpha)*self.weights['W'+str(i)+str(i+1)] - self.lr*self.delta['delta_'+str(i)]@(Z_prev.T)\n",
        "                #self.weights['W'+str(i)+str(i+1)]=self.weights['W'+str(i)+str(i+1)] + self.lr*self.delta['delta_'+str(i)]@(Z_prev.T)\n",
        "            else:\n",
        "                \n",
        "                Z_prev = self.cache['Z'+str(i-1)]\n",
        "                #self.weights['W'+str(i)+str(i+1)]=self.weights['W'+str(i)+str(i+1)] - self.lr*self.delta['delta_'+str(i)]@(Z_prev.T)-self.lr*self.alpha*self.weights['W'+str(i)+str(i+1)]\n",
        "                #self.weights['W'+str(i)+str(i+1)]=self.weights['W'+str(i)+str(i+1)] - self.lr*self.delta['delta_'+str(i)]@(Z_prev.T)\n",
        "                self.weights['W'+str(i)+str(i+1)]=(1-self.alpha)*self.weights['W'+str(i)+str(i+1)] - self.lr*self.delta['delta_'+str(i)]@(Z_prev.T)\n",
        "                #self.weights['W'+str(i)+str(i+1)]=self.weights['W'+str(i)+str(i+1)] + self.lr*self.delta['delta_'+str(i)]@(Z_prev.T)\n",
        "            \n",
        "            \n",
        "        \n",
        "    #def error(self):\n",
        "        #y = self.y\n",
        "        #yh = self.cache['AL']\n",
        "        #error = np.linalg.norm(y-yh)*np.linalg.norm(y-yh)\n",
        "        #return error\n",
        "        #pass\n",
        "    \n",
        "        "
      ],
      "execution_count": 0,
      "outputs": []
    },
    {
      "metadata": {
        "id": "34lhlzJJWL3r",
        "colab_type": "code",
        "colab": {},
        "outputId": "3e039aa6-333e-4fca-b643-47f1d9953829"
      },
      "cell_type": "code",
      "source": [
        "len(Y_train)"
      ],
      "execution_count": 0,
      "outputs": [
        {
          "output_type": "execute_result",
          "data": {
            "text/plain": [
              "176"
            ]
          },
          "metadata": {
            "tags": []
          },
          "execution_count": 239
        }
      ]
    },
    {
      "metadata": {
        "id": "JP-s0ZMUWL3u",
        "colab_type": "code",
        "colab": {}
      },
      "cell_type": "code",
      "source": [
        "def train_model(X_train,Y_train,epoch=1,model = NN([33,11,1],0.1,0)):\n",
        "    total_error_list =[]\n",
        "    epoch =epoch\n",
        "    model =model\n",
        "    #model = NN([33,10,1],lr,alpha)\n",
        "    for e in range(epoch):\n",
        "        errorlist = []\n",
        "        #print(e)\n",
        "        for i in range(176) :\n",
        "            model.feed_forward(X_train[:,i].reshape(33,1))\n",
        "            model.back_propagation(Y_train[:,i].reshape(1,1))\n",
        "            model.weight_update()\n",
        "            #error = Y_train[:,i].reshape(1,1) - model.cache['AL']\n",
        "            #print ('ZL=   ',model.cache['ZL'])\n",
        "            #print(\"Y = \",Y_train[:,i])\n",
        "            error = np.linalg.norm(Y_train[:,i].reshape(1,1) - model.cache['ZL'])\n",
        "            #print(error)\n",
        "        \n",
        "            errorlist.append(error)\n",
        "        total_error = np.linalg.norm(errorlist)\n",
        "        #print (total_error)\n",
        "        total_error_list.append(total_error)\n",
        "    train_error = sum(total_error_list)#/len(total_error_list)\n",
        "    #train_error = np.linalg.norm(total_error_list)\n",
        "    return train_error,model,total_error_list#, model.cache\n",
        "    "
      ],
      "execution_count": 0,
      "outputs": []
    },
    {
      "metadata": {
        "id": "4KtdSIq9WL3x",
        "colab_type": "code",
        "colab": {},
        "outputId": "5d7b697c-ec87-4021-bb14-b35a52a6ee22"
      },
      "cell_type": "code",
      "source": [
        "norm(4-5)"
      ],
      "execution_count": 0,
      "outputs": [
        {
          "output_type": "execute_result",
          "data": {
            "text/plain": [
              "1.0"
            ]
          },
          "metadata": {
            "tags": []
          },
          "execution_count": 406
        }
      ]
    },
    {
      "metadata": {
        "id": "K_du40PBWL3z",
        "colab_type": "code",
        "colab": {}
      },
      "cell_type": "code",
      "source": [
        "def fit_model(X_test,Y_test,model):\n",
        "    model = model\n",
        "    error_list =[] \n",
        "    predict_list = []\n",
        "    L = len(Y_test)\n",
        "    for i in range(L):\n",
        "        model.feed_forward(X_test[:,i].reshape(33,1))\n",
        "        predict = model.cache['ZL']\n",
        "        #print(predict)\n",
        "        predict_list.append(predict)\n",
        "        error = np.linalg.norm(Y_test.T[:,i].reshape(1,1) - predict)\n",
        "        error_list.append(error)\n",
        "    #test_error = sum(error_list)\n",
        "    test_error = np.linalg.norm(error_list)\n",
        "    return test_error,predict_list"
      ],
      "execution_count": 0,
      "outputs": []
    },
    {
      "metadata": {
        "id": "x6L4TOjOWL31",
        "colab_type": "code",
        "colab": {},
        "outputId": "6c8e1689-f543-4e94-b57d-d2541cec6563"
      },
      "cell_type": "code",
      "source": [
        "fit_model(X_test,Y_test,NN([33,8,1],0.1,0))"
      ],
      "execution_count": 0,
      "outputs": [
        {
          "output_type": "execute_result",
          "data": {
            "text/plain": [
              "(6.627355012659669,\n",
              " [array([[0.50350605]]),\n",
              "  array([[0.50348212]]),\n",
              "  array([[0.5034112]]),\n",
              "  array([[0.50345098]]),\n",
              "  array([[0.50349749]]),\n",
              "  array([[0.50345473]]),\n",
              "  array([[0.50344192]]),\n",
              "  array([[0.50344655]]),\n",
              "  array([[0.50333154]]),\n",
              "  array([[0.50344684]]),\n",
              "  array([[0.50342051]]),\n",
              "  array([[0.50343042]]),\n",
              "  array([[0.50345515]]),\n",
              "  array([[0.50346256]]),\n",
              "  array([[0.50335996]]),\n",
              "  array([[0.50347241]]),\n",
              "  array([[0.5034135]]),\n",
              "  array([[0.5034349]]),\n",
              "  array([[0.50342509]]),\n",
              "  array([[0.50343573]]),\n",
              "  array([[0.50344934]]),\n",
              "  array([[0.50342017]]),\n",
              "  array([[0.50333388]]),\n",
              "  array([[0.50342895]]),\n",
              "  array([[0.50333817]]),\n",
              "  array([[0.50338857]]),\n",
              "  array([[0.50336371]]),\n",
              "  array([[0.50338698]]),\n",
              "  array([[0.50347574]]),\n",
              "  array([[0.50344017]]),\n",
              "  array([[0.50354118]]),\n",
              "  array([[0.50335821]]),\n",
              "  array([[0.5034736]]),\n",
              "  array([[0.5033972]]),\n",
              "  array([[0.50347675]]),\n",
              "  array([[0.50345833]]),\n",
              "  array([[0.50342296]]),\n",
              "  array([[0.50344438]]),\n",
              "  array([[0.50344231]]),\n",
              "  array([[0.5034491]]),\n",
              "  array([[0.50344049]]),\n",
              "  array([[0.50346907]]),\n",
              "  array([[0.50348612]]),\n",
              "  array([[0.5034804]]),\n",
              "  array([[0.5034397]]),\n",
              "  array([[0.50344989]]),\n",
              "  array([[0.50342031]]),\n",
              "  array([[0.50344344]]),\n",
              "  array([[0.50339801]]),\n",
              "  array([[0.50344056]]),\n",
              "  array([[0.50342867]]),\n",
              "  array([[0.50336806]]),\n",
              "  array([[0.50347695]]),\n",
              "  array([[0.50341966]]),\n",
              "  array([[0.50342934]]),\n",
              "  array([[0.50343342]]),\n",
              "  array([[0.50343509]]),\n",
              "  array([[0.50340973]]),\n",
              "  array([[0.50345019]]),\n",
              "  array([[0.50346544]]),\n",
              "  array([[0.50338282]]),\n",
              "  array([[0.50343855]]),\n",
              "  array([[0.50334871]]),\n",
              "  array([[0.503441]]),\n",
              "  array([[0.50344669]]),\n",
              "  array([[0.50347447]]),\n",
              "  array([[0.50345032]]),\n",
              "  array([[0.5034476]]),\n",
              "  array([[0.50343758]]),\n",
              "  array([[0.50340164]]),\n",
              "  array([[0.5034412]]),\n",
              "  array([[0.50344225]]),\n",
              "  array([[0.50343888]]),\n",
              "  array([[0.50344244]]),\n",
              "  array([[0.50344345]]),\n",
              "  array([[0.50342473]]),\n",
              "  array([[0.50344347]]),\n",
              "  array([[0.50337702]]),\n",
              "  array([[0.50344542]]),\n",
              "  array([[0.50331793]]),\n",
              "  array([[0.50336552]]),\n",
              "  array([[0.50350599]]),\n",
              "  array([[0.50341603]]),\n",
              "  array([[0.50340851]]),\n",
              "  array([[0.50343974]]),\n",
              "  array([[0.50341827]]),\n",
              "  array([[0.5034479]]),\n",
              "  array([[0.50342643]]),\n",
              "  array([[0.50344197]]),\n",
              "  array([[0.50342648]]),\n",
              "  array([[0.50344533]]),\n",
              "  array([[0.5034043]]),\n",
              "  array([[0.5034256]]),\n",
              "  array([[0.50343727]]),\n",
              "  array([[0.50336986]]),\n",
              "  array([[0.50345901]]),\n",
              "  array([[0.50344941]]),\n",
              "  array([[0.50347084]]),\n",
              "  array([[0.50339956]]),\n",
              "  array([[0.50345398]]),\n",
              "  array([[0.50346724]]),\n",
              "  array([[0.50341411]]),\n",
              "  array([[0.50344163]]),\n",
              "  array([[0.50340477]]),\n",
              "  array([[0.5034414]]),\n",
              "  array([[0.50340145]]),\n",
              "  array([[0.5034714]]),\n",
              "  array([[0.50337126]]),\n",
              "  array([[0.50347445]]),\n",
              "  array([[0.50349131]]),\n",
              "  array([[0.5032553]]),\n",
              "  array([[0.50347393]]),\n",
              "  array([[0.50340817]]),\n",
              "  array([[0.50348103]]),\n",
              "  array([[0.50338448]]),\n",
              "  array([[0.50348857]]),\n",
              "  array([[0.50341462]]),\n",
              "  array([[0.50334719]]),\n",
              "  array([[0.50345393]]),\n",
              "  array([[0.50342051]]),\n",
              "  array([[0.50343998]]),\n",
              "  array([[0.50346034]]),\n",
              "  array([[0.50350295]]),\n",
              "  array([[0.50343721]]),\n",
              "  array([[0.50343682]]),\n",
              "  array([[0.50340532]]),\n",
              "  array([[0.50341538]]),\n",
              "  array([[0.50339652]]),\n",
              "  array([[0.50344351]]),\n",
              "  array([[0.50342971]]),\n",
              "  array([[0.50344611]]),\n",
              "  array([[0.50344278]]),\n",
              "  array([[0.5034836]]),\n",
              "  array([[0.5034854]]),\n",
              "  array([[0.50349431]]),\n",
              "  array([[0.50345584]]),\n",
              "  array([[0.50342649]]),\n",
              "  array([[0.50345865]]),\n",
              "  array([[0.50344638]]),\n",
              "  array([[0.50344552]]),\n",
              "  array([[0.50345619]]),\n",
              "  array([[0.50344407]]),\n",
              "  array([[0.50344008]]),\n",
              "  array([[0.50344178]]),\n",
              "  array([[0.5034818]]),\n",
              "  array([[0.50345701]]),\n",
              "  array([[0.50342025]]),\n",
              "  array([[0.50342604]]),\n",
              "  array([[0.50344063]]),\n",
              "  array([[0.50344102]]),\n",
              "  array([[0.50344733]]),\n",
              "  array([[0.50345448]]),\n",
              "  array([[0.50346923]]),\n",
              "  array([[0.50344074]]),\n",
              "  array([[0.50342199]]),\n",
              "  array([[0.50343461]]),\n",
              "  array([[0.50344207]]),\n",
              "  array([[0.50342823]]),\n",
              "  array([[0.50344102]]),\n",
              "  array([[0.5034413]]),\n",
              "  array([[0.50344573]]),\n",
              "  array([[0.50341645]]),\n",
              "  array([[0.50340778]]),\n",
              "  array([[0.50344685]]),\n",
              "  array([[0.50344938]]),\n",
              "  array([[0.50344656]]),\n",
              "  array([[0.50344324]]),\n",
              "  array([[0.50344375]]),\n",
              "  array([[0.50342188]]),\n",
              "  array([[0.50339559]]),\n",
              "  array([[0.5034428]]),\n",
              "  array([[0.50343929]]),\n",
              "  array([[0.50342486]]),\n",
              "  array([[0.5034475]]),\n",
              "  array([[0.5034433]])])"
            ]
          },
          "metadata": {
            "tags": []
          },
          "execution_count": 491
        }
      ]
    },
    {
      "metadata": {
        "id": "I58Xbbq0WL34",
        "colab_type": "code",
        "colab": {},
        "outputId": "c3d894eb-b2e3-44cd-f941-1a77384d4956"
      },
      "cell_type": "code",
      "source": [
        "Y_test.shape"
      ],
      "execution_count": 0,
      "outputs": [
        {
          "output_type": "execute_result",
          "data": {
            "text/plain": [
              "(175, 1)"
            ]
          },
          "metadata": {
            "tags": []
          },
          "execution_count": 444
        }
      ]
    },
    {
      "metadata": {
        "id": "e5Yu4Z8MWL37",
        "colab_type": "code",
        "colab": {}
      },
      "cell_type": "code",
      "source": [
        "def train_test_plot(X_train,Y_train,X_test,Y_test,lr,alpha,epoch,model):\n",
        "    epoch = epoch\n",
        "    lr =lr \n",
        "    train_error_list = []\n",
        "    test_error_list=[]\n",
        "    alpha = alpha\n",
        "    predict_list=[]\n",
        "    train_error,model,total_error_list = train_model(X_train,Y_train.T,1,model)\n",
        "    for i in range(epoch):\n",
        "        train_error,model,total_error_list = train_model(X_train,Y_train.T,epoch=1,model=model)\n",
        "        #print (train_error,total_error_list)\n",
        "        test_error,predict_list_1 = fit_model(X_test,Y_test,model)\n",
        "        train_error_list.append(train_error)\n",
        "        test_error_list.append(test_error)\n",
        "        predict_list.append(predict_list_1)\n",
        "        model = model\n",
        "    plt.plot(train_error_list,label='train_error')\n",
        "    plt.plot(test_error_list,label='test_error')\n",
        "    plt.ylim(0,8)\n",
        "    plt.legend()\n",
        "    plt.xlabel('Number of Epochs')\n",
        "    plt.ylabel('Norm Error')\n",
        "    return train_error_list,test_error_list,predict_list"
      ],
      "execution_count": 0,
      "outputs": []
    },
    {
      "metadata": {
        "id": "PSTxZQm6WL39",
        "colab_type": "code",
        "colab": {},
        "outputId": "c6928345-4be5-4e6a-8626-4280cc834fa9"
      },
      "cell_type": "code",
      "source": [
        "a,b,c=train_test_plot(X_train,Y_train,X_test,Y_test,0.2,0,200,NN([33,20,1],0.3,0.0015))"
      ],
      "execution_count": 0,
      "outputs": [
        {
          "output_type": "display_data",
          "data": {
            "image/png": "[encoded data removed]",
            "text/plain": [
              "<Figure size 432x288 with 1 Axes>"
            ]
          },
          "metadata": {
            "tags": []
          }
        }
      ]
    },
    {
      "metadata": {
        "id": "tG4SudO0WL3-",
        "colab_type": "code",
        "colab": {}
      },
      "cell_type": "code",
      "source": [
        "k=(np.array(c[20])>0.5).astype(int)\n",
        "prediction =[]\n",
        "for i in range(len(k)):\n",
        "    prediction.append(k[i][0])\n",
        "    \n",
        "    "
      ],
      "execution_count": 0,
      "outputs": []
    },
    {
      "metadata": {
        "id": "not-doaGWL4A",
        "colab_type": "code",
        "colab": {},
        "outputId": "3943f877-e317-4500-b164-e1c1f580f06d"
      },
      "cell_type": "code",
      "source": [
        "sum(prediction -Y_test)"
      ],
      "execution_count": 0,
      "outputs": [
        {
          "output_type": "execute_result",
          "data": {
            "text/plain": [
              "array([-37])"
            ]
          },
          "metadata": {
            "tags": []
          },
          "execution_count": 510
        }
      ]
    },
    {
      "metadata": {
        "id": "eQAW_qBjWL4D",
        "colab_type": "code",
        "colab": {},
        "outputId": "7f366168-dd4f-4122-f713-4a815da2a553"
      },
      "cell_type": "code",
      "source": [
        "k"
      ],
      "execution_count": 0,
      "outputs": [
        {
          "output_type": "execute_result",
          "data": {
            "text/plain": [
              "array([[[1]],\n",
              "\n",
              "       [[0]],\n",
              "\n",
              "       [[0]],\n",
              "\n",
              "       [[1]],\n",
              "\n",
              "       [[0]],\n",
              "\n",
              "       [[0]],\n",
              "\n",
              "       [[0]],\n",
              "\n",
              "       [[0]],\n",
              "\n",
              "       [[1]],\n",
              "\n",
              "       [[1]],\n",
              "\n",
              "       [[0]],\n",
              "\n",
              "       [[0]],\n",
              "\n",
              "       [[0]],\n",
              "\n",
              "       [[0]],\n",
              "\n",
              "       [[0]],\n",
              "\n",
              "       [[0]],\n",
              "\n",
              "       [[0]],\n",
              "\n",
              "       [[0]],\n",
              "\n",
              "       [[0]],\n",
              "\n",
              "       [[0]],\n",
              "\n",
              "       [[0]],\n",
              "\n",
              "       [[1]],\n",
              "\n",
              "       [[1]],\n",
              "\n",
              "       [[0]],\n",
              "\n",
              "       [[1]],\n",
              "\n",
              "       [[1]],\n",
              "\n",
              "       [[0]],\n",
              "\n",
              "       [[0]],\n",
              "\n",
              "       [[0]],\n",
              "\n",
              "       [[0]],\n",
              "\n",
              "       [[0]],\n",
              "\n",
              "       [[1]],\n",
              "\n",
              "       [[0]],\n",
              "\n",
              "       [[0]],\n",
              "\n",
              "       [[0]],\n",
              "\n",
              "       [[0]],\n",
              "\n",
              "       [[0]],\n",
              "\n",
              "       [[0]],\n",
              "\n",
              "       [[0]],\n",
              "\n",
              "       [[0]],\n",
              "\n",
              "       [[0]],\n",
              "\n",
              "       [[0]],\n",
              "\n",
              "       [[0]],\n",
              "\n",
              "       [[0]],\n",
              "\n",
              "       [[0]],\n",
              "\n",
              "       [[0]],\n",
              "\n",
              "       [[0]],\n",
              "\n",
              "       [[0]],\n",
              "\n",
              "       [[1]],\n",
              "\n",
              "       [[0]],\n",
              "\n",
              "       [[0]],\n",
              "\n",
              "       [[0]],\n",
              "\n",
              "       [[0]],\n",
              "\n",
              "       [[0]],\n",
              "\n",
              "       [[0]],\n",
              "\n",
              "       [[0]],\n",
              "\n",
              "       [[0]],\n",
              "\n",
              "       [[0]],\n",
              "\n",
              "       [[0]],\n",
              "\n",
              "       [[0]],\n",
              "\n",
              "       [[0]],\n",
              "\n",
              "       [[0]],\n",
              "\n",
              "       [[1]],\n",
              "\n",
              "       [[0]],\n",
              "\n",
              "       [[0]],\n",
              "\n",
              "       [[0]],\n",
              "\n",
              "       [[0]],\n",
              "\n",
              "       [[1]],\n",
              "\n",
              "       [[0]],\n",
              "\n",
              "       [[1]],\n",
              "\n",
              "       [[0]],\n",
              "\n",
              "       [[0]],\n",
              "\n",
              "       [[0]],\n",
              "\n",
              "       [[0]],\n",
              "\n",
              "       [[0]],\n",
              "\n",
              "       [[0]],\n",
              "\n",
              "       [[0]],\n",
              "\n",
              "       [[0]],\n",
              "\n",
              "       [[0]],\n",
              "\n",
              "       [[1]],\n",
              "\n",
              "       [[0]],\n",
              "\n",
              "       [[0]],\n",
              "\n",
              "       [[1]],\n",
              "\n",
              "       [[1]],\n",
              "\n",
              "       [[0]],\n",
              "\n",
              "       [[1]],\n",
              "\n",
              "       [[0]],\n",
              "\n",
              "       [[0]],\n",
              "\n",
              "       [[0]],\n",
              "\n",
              "       [[1]],\n",
              "\n",
              "       [[0]],\n",
              "\n",
              "       [[0]],\n",
              "\n",
              "       [[1]],\n",
              "\n",
              "       [[0]],\n",
              "\n",
              "       [[0]],\n",
              "\n",
              "       [[0]],\n",
              "\n",
              "       [[0]],\n",
              "\n",
              "       [[0]],\n",
              "\n",
              "       [[0]],\n",
              "\n",
              "       [[0]],\n",
              "\n",
              "       [[0]],\n",
              "\n",
              "       [[0]],\n",
              "\n",
              "       [[0]],\n",
              "\n",
              "       [[0]],\n",
              "\n",
              "       [[1]],\n",
              "\n",
              "       [[0]],\n",
              "\n",
              "       [[0]],\n",
              "\n",
              "       [[0]],\n",
              "\n",
              "       [[0]],\n",
              "\n",
              "       [[0]],\n",
              "\n",
              "       [[1]],\n",
              "\n",
              "       [[0]],\n",
              "\n",
              "       [[0]],\n",
              "\n",
              "       [[0]],\n",
              "\n",
              "       [[1]],\n",
              "\n",
              "       [[0]],\n",
              "\n",
              "       [[0]],\n",
              "\n",
              "       [[0]],\n",
              "\n",
              "       [[0]],\n",
              "\n",
              "       [[1]],\n",
              "\n",
              "       [[1]],\n",
              "\n",
              "       [[0]],\n",
              "\n",
              "       [[1]],\n",
              "\n",
              "       [[0]],\n",
              "\n",
              "       [[0]],\n",
              "\n",
              "       [[0]],\n",
              "\n",
              "       [[0]],\n",
              "\n",
              "       [[1]],\n",
              "\n",
              "       [[0]],\n",
              "\n",
              "       [[0]],\n",
              "\n",
              "       [[0]],\n",
              "\n",
              "       [[0]],\n",
              "\n",
              "       [[0]],\n",
              "\n",
              "       [[0]],\n",
              "\n",
              "       [[0]],\n",
              "\n",
              "       [[0]],\n",
              "\n",
              "       [[0]],\n",
              "\n",
              "       [[0]],\n",
              "\n",
              "       [[0]],\n",
              "\n",
              "       [[0]],\n",
              "\n",
              "       [[0]],\n",
              "\n",
              "       [[0]],\n",
              "\n",
              "       [[0]],\n",
              "\n",
              "       [[0]],\n",
              "\n",
              "       [[0]],\n",
              "\n",
              "       [[0]],\n",
              "\n",
              "       [[0]],\n",
              "\n",
              "       [[0]],\n",
              "\n",
              "       [[0]],\n",
              "\n",
              "       [[0]],\n",
              "\n",
              "       [[0]],\n",
              "\n",
              "       [[0]],\n",
              "\n",
              "       [[0]],\n",
              "\n",
              "       [[0]],\n",
              "\n",
              "       [[0]],\n",
              "\n",
              "       [[0]],\n",
              "\n",
              "       [[0]],\n",
              "\n",
              "       [[0]],\n",
              "\n",
              "       [[0]],\n",
              "\n",
              "       [[0]],\n",
              "\n",
              "       [[0]],\n",
              "\n",
              "       [[0]],\n",
              "\n",
              "       [[0]],\n",
              "\n",
              "       [[0]],\n",
              "\n",
              "       [[0]],\n",
              "\n",
              "       [[0]],\n",
              "\n",
              "       [[0]],\n",
              "\n",
              "       [[0]],\n",
              "\n",
              "       [[0]],\n",
              "\n",
              "       [[0]],\n",
              "\n",
              "       [[0]],\n",
              "\n",
              "       [[0]],\n",
              "\n",
              "       [[0]],\n",
              "\n",
              "       [[0]],\n",
              "\n",
              "       [[0]]])"
            ]
          },
          "metadata": {
            "tags": []
          },
          "execution_count": 506
        }
      ]
    },
    {
      "metadata": {
        "id": "hDQzNSnGWL4F",
        "colab_type": "code",
        "colab": {},
        "outputId": "86832d58-95fe-4139-b658-d739b329f23d"
      },
      "cell_type": "code",
      "source": [
        "Y_test"
      ],
      "execution_count": 0,
      "outputs": [
        {
          "output_type": "execute_result",
          "data": {
            "text/plain": [
              "array([[1],\n",
              "       [1],\n",
              "       [0],\n",
              "       [1],\n",
              "       [1],\n",
              "       [0],\n",
              "       [0],\n",
              "       [0],\n",
              "       [1],\n",
              "       [1],\n",
              "       [0],\n",
              "       [0],\n",
              "       [1],\n",
              "       [1],\n",
              "       [1],\n",
              "       [0],\n",
              "       [0],\n",
              "       [1],\n",
              "       [0],\n",
              "       [0],\n",
              "       [0],\n",
              "       [1],\n",
              "       [1],\n",
              "       [0],\n",
              "       [1],\n",
              "       [1],\n",
              "       [1],\n",
              "       [0],\n",
              "       [1],\n",
              "       [0],\n",
              "       [1],\n",
              "       [1],\n",
              "       [0],\n",
              "       [1],\n",
              "       [1],\n",
              "       [0],\n",
              "       [1],\n",
              "       [1],\n",
              "       [1],\n",
              "       [0],\n",
              "       [0],\n",
              "       [1],\n",
              "       [0],\n",
              "       [0],\n",
              "       [1],\n",
              "       [0],\n",
              "       [0],\n",
              "       [0],\n",
              "       [1],\n",
              "       [0],\n",
              "       [0],\n",
              "       [1],\n",
              "       [0],\n",
              "       [1],\n",
              "       [0],\n",
              "       [1],\n",
              "       [0],\n",
              "       [0],\n",
              "       [0],\n",
              "       [0],\n",
              "       [1],\n",
              "       [0],\n",
              "       [1],\n",
              "       [0],\n",
              "       [0],\n",
              "       [1],\n",
              "       [0],\n",
              "       [1],\n",
              "       [0],\n",
              "       [1],\n",
              "       [0],\n",
              "       [0],\n",
              "       [1],\n",
              "       [0],\n",
              "       [1],\n",
              "       [0],\n",
              "       [1],\n",
              "       [0],\n",
              "       [1],\n",
              "       [1],\n",
              "       [0],\n",
              "       [1],\n",
              "       [1],\n",
              "       [1],\n",
              "       [0],\n",
              "       [1],\n",
              "       [0],\n",
              "       [1],\n",
              "       [0],\n",
              "       [1],\n",
              "       [0],\n",
              "       [0],\n",
              "       [1],\n",
              "       [0],\n",
              "       [0],\n",
              "       [0],\n",
              "       [0],\n",
              "       [0],\n",
              "       [1],\n",
              "       [0],\n",
              "       [1],\n",
              "       [0],\n",
              "       [0],\n",
              "       [0],\n",
              "       [1],\n",
              "       [0],\n",
              "       [1],\n",
              "       [0],\n",
              "       [0],\n",
              "       [0],\n",
              "       [1],\n",
              "       [0],\n",
              "       [1],\n",
              "       [0],\n",
              "       [1],\n",
              "       [0],\n",
              "       [0],\n",
              "       [1],\n",
              "       [0],\n",
              "       [1],\n",
              "       [1],\n",
              "       [1],\n",
              "       [1],\n",
              "       [1],\n",
              "       [0],\n",
              "       [1],\n",
              "       [1],\n",
              "       [1],\n",
              "       [0],\n",
              "       [1],\n",
              "       [0],\n",
              "       [0],\n",
              "       [0],\n",
              "       [0],\n",
              "       [0],\n",
              "       [0],\n",
              "       [0],\n",
              "       [0],\n",
              "       [0],\n",
              "       [0],\n",
              "       [0],\n",
              "       [0],\n",
              "       [0],\n",
              "       [0],\n",
              "       [0],\n",
              "       [0],\n",
              "       [0],\n",
              "       [0],\n",
              "       [0],\n",
              "       [0],\n",
              "       [0],\n",
              "       [0],\n",
              "       [0],\n",
              "       [0],\n",
              "       [0],\n",
              "       [0],\n",
              "       [0],\n",
              "       [0],\n",
              "       [0],\n",
              "       [0],\n",
              "       [0],\n",
              "       [0],\n",
              "       [0],\n",
              "       [0],\n",
              "       [0],\n",
              "       [0],\n",
              "       [0],\n",
              "       [0],\n",
              "       [0],\n",
              "       [0],\n",
              "       [0],\n",
              "       [0],\n",
              "       [0],\n",
              "       [0],\n",
              "       [0]], dtype=uint8)"
            ]
          },
          "metadata": {
            "tags": []
          },
          "execution_count": 501
        }
      ]
    },
    {
      "metadata": {
        "id": "0xmfKfK4WL4H",
        "colab_type": "code",
        "colab": {}
      },
      "cell_type": "code",
      "source": [
        "train_error,model_train,total_er = train_model(X_train,Y_train.T,0.1,0,epoch=10)"
      ],
      "execution_count": 0,
      "outputs": []
    },
    {
      "metadata": {
        "id": "3IhUtkF-WL4K",
        "colab_type": "code",
        "colab": {},
        "outputId": "53ad2a2b-e9b2-47af-e195-59f52c88d98c"
      },
      "cell_type": "code",
      "source": [
        "total_er"
      ],
      "execution_count": 0,
      "outputs": [
        {
          "output_type": "execute_result",
          "data": {
            "text/plain": [
              "[5.8549336488380135,\n",
              " 5.731541034945887,\n",
              " 4.768405479224534,\n",
              " 4.032604408806568,\n",
              " 3.6476167459677384,\n",
              " 3.3722915487940193,\n",
              " 3.160654567978825,\n",
              " 3.003512519767508,\n",
              " 2.8801916781675128,\n",
              " 2.7678016878052567]"
            ]
          },
          "metadata": {
            "tags": []
          },
          "execution_count": 343
        }
      ]
    },
    {
      "metadata": {
        "id": "px2VgFE_WL4M",
        "colab_type": "code",
        "colab": {}
      },
      "cell_type": "code",
      "source": [
        " errorl,pl=fit_model(X_train,Y_train.T,model_train)"
      ],
      "execution_count": 0,
      "outputs": []
    },
    {
      "metadata": {
        "id": "i3KJvvoSWL4N",
        "colab_type": "code",
        "colab": {},
        "outputId": "56e18a4c-64ae-4959-d005-f16c28f0e28a"
      },
      "cell_type": "code",
      "source": [
        "pl"
      ],
      "execution_count": 0,
      "outputs": [
        {
          "output_type": "execute_result",
          "data": {
            "text/plain": [
              "[array([[0.03372899]]),\n",
              " array([[0.0374504]]),\n",
              " array([[0.03348179]]),\n",
              " array([[0.03339531]]),\n",
              " array([[0.03771007]]),\n",
              " array([[0.03327022]]),\n",
              " array([[0.03296679]]),\n",
              " array([[0.03365288]]),\n",
              " array([[0.03649524]]),\n",
              " array([[0.03426642]]),\n",
              " array([[0.04240678]]),\n",
              " array([[0.03370592]]),\n",
              " array([[0.04122826]]),\n",
              " array([[0.04148169]]),\n",
              " array([[0.03288207]]),\n",
              " array([[0.03923347]]),\n",
              " array([[0.03509795]]),\n",
              " array([[0.03270132]]),\n",
              " array([[0.03623298]]),\n",
              " array([[0.03807831]]),\n",
              " array([[0.03423882]]),\n",
              " array([[0.03360232]]),\n",
              " array([[0.03706974]]),\n",
              " array([[0.03343245]]),\n",
              " array([[0.04510299]]),\n",
              " array([[0.03389096]]),\n",
              " array([[0.03337135]]),\n",
              " array([[0.04409116]]),\n",
              " array([[0.03688295]]),\n",
              " array([[0.03731106]]),\n",
              " array([[0.02552372]]),\n",
              " array([[0.03264765]]),\n",
              " array([[0.03364872]]),\n",
              " array([[0.04366049]]),\n",
              " array([[0.03331758]]),\n",
              " array([[0.03311242]]),\n",
              " array([[0.03324476]]),\n",
              " array([[0.03947883]]),\n",
              " array([[0.02689452]]),\n",
              " array([[0.03377854]]),\n",
              " array([[0.03335464]]),\n",
              " array([[0.03601141]]),\n",
              " array([[0.03358772]]),\n",
              " array([[0.03299425]]),\n",
              " array([[0.03195211]]),\n",
              " array([[0.036922]]),\n",
              " array([[0.03360875]]),\n",
              " array([[0.03317659]]),\n",
              " array([[0.03435086]]),\n",
              " array([[0.03413479]]),\n",
              " array([[0.03524064]]),\n",
              " array([[0.04080122]]),\n",
              " array([[0.03827607]]),\n",
              " array([[0.03500579]]),\n",
              " array([[0.03620729]]),\n",
              " array([[0.0334661]]),\n",
              " array([[0.03990299]]),\n",
              " array([[0.03764427]]),\n",
              " array([[0.03366152]]),\n",
              " array([[0.0314872]]),\n",
              " array([[0.03754878]]),\n",
              " array([[0.0341377]]),\n",
              " array([[0.03888559]]),\n",
              " array([[0.03812737]]),\n",
              " array([[0.03641314]]),\n",
              " array([[0.03358881]]),\n",
              " array([[0.03462726]]),\n",
              " array([[0.03407122]]),\n",
              " array([[0.03591302]]),\n",
              " array([[0.03030461]]),\n",
              " array([[0.03470363]]),\n",
              " array([[0.03498608]]),\n",
              " array([[0.03683919]]),\n",
              " array([[0.03435078]]),\n",
              " array([[0.03695829]]),\n",
              " array([[0.03418883]]),\n",
              " array([[0.03493508]]),\n",
              " array([[0.0345397]]),\n",
              " array([[0.03455302]]),\n",
              " array([[0.03717213]]),\n",
              " array([[0.03195559]]),\n",
              " array([[0.03700652]]),\n",
              " array([[0.03395562]]),\n",
              " array([[0.02794017]]),\n",
              " array([[0.03033728]]),\n",
              " array([[0.04536617]]),\n",
              " array([[0.03363002]]),\n",
              " array([[0.03730059]]),\n",
              " array([[0.04011247]]),\n",
              " array([[0.03354591]]),\n",
              " array([[0.04007282]]),\n",
              " array([[0.03403197]]),\n",
              " array([[0.02721119]]),\n",
              " array([[0.04052851]]),\n",
              " array([[0.03522681]]),\n",
              " array([[0.04346032]]),\n",
              " array([[0.03559599]]),\n",
              " array([[0.03965066]]),\n",
              " array([[0.03571856]]),\n",
              " array([[0.02964218]]),\n",
              " array([[0.03646904]]),\n",
              " array([[0.03423105]]),\n",
              " array([[0.03736553]]),\n",
              " array([[0.03267102]]),\n",
              " array([[0.03529059]]),\n",
              " array([[0.03525582]]),\n",
              " array([[0.03514658]]),\n",
              " array([[0.03736773]]),\n",
              " array([[0.04006521]]),\n",
              " array([[0.03824214]]),\n",
              " array([[0.03497042]]),\n",
              " array([[0.03400124]]),\n",
              " array([[0.03531922]]),\n",
              " array([[0.03365697]]),\n",
              " array([[0.0376004]]),\n",
              " array([[0.03489133]]),\n",
              " array([[0.03742692]]),\n",
              " array([[0.03457666]]),\n",
              " array([[0.03413497]]),\n",
              " array([[0.03401414]]),\n",
              " array([[0.03552942]]),\n",
              " array([[0.03405051]]),\n",
              " array([[0.02847667]]),\n",
              " array([[0.02826119]]),\n",
              " array([[0.03202368]]),\n",
              " array([[0.02888393]]),\n",
              " array([[0.03570769]]),\n",
              " array([[0.03307697]]),\n",
              " array([[0.03530832]]),\n",
              " array([[0.03276774]]),\n",
              " array([[0.03213287]]),\n",
              " array([[0.03359057]]),\n",
              " array([[0.03500835]]),\n",
              " array([[0.03454101]]),\n",
              " array([[0.03208938]]),\n",
              " array([[0.03058646]]),\n",
              " array([[0.03109898]]),\n",
              " array([[0.02986677]]),\n",
              " array([[0.02943828]]),\n",
              " array([[0.03472535]]),\n",
              " array([[0.03310831]]),\n",
              " array([[0.03380983]]),\n",
              " array([[0.03351326]]),\n",
              " array([[0.03537244]]),\n",
              " array([[0.035251]]),\n",
              " array([[0.03407427]]),\n",
              " array([[0.03329914]]),\n",
              " array([[0.03462593]]),\n",
              " array([[0.03006376]]),\n",
              " array([[0.02942582]]),\n",
              " array([[0.02960659]]),\n",
              " array([[0.02854909]]),\n",
              " array([[0.02952336]]),\n",
              " array([[0.0338896]]),\n",
              " array([[0.03486382]]),\n",
              " array([[0.03027392]]),\n",
              " array([[0.02817029]]),\n",
              " array([[0.03346054]]),\n",
              " array([[0.02786162]]),\n",
              " array([[0.03392669]]),\n",
              " array([[0.03437576]]),\n",
              " array([[0.03390902]]),\n",
              " array([[0.03388687]]),\n",
              " array([[0.02866547]]),\n",
              " array([[0.02822919]]),\n",
              " array([[0.02762527]]),\n",
              " array([[0.03379926]]),\n",
              " array([[0.03382488]]),\n",
              " array([[0.03148158]]),\n",
              " array([[0.02975847]]),\n",
              " array([[0.03611769]]),\n",
              " array([[0.03381968]]),\n",
              " array([[0.03392467]]),\n",
              " array([[0.03404264]]),\n",
              " array([[0.0341223]]),\n",
              " array([[0.03408904]])]"
            ]
          },
          "metadata": {
            "tags": []
          },
          "execution_count": 319
        }
      ]
    },
    {
      "metadata": {
        "id": "bw7Zd2JRWL4Q",
        "colab_type": "code",
        "colab": {},
        "outputId": "e161c4f1-6dbf-4d02-f4ef-e83c7aea5049"
      },
      "cell_type": "code",
      "source": [
        "errorl=[a for a in errorl if a>0.5]\n",
        "np.linalg.norm(errorl)"
      ],
      "execution_count": 0,
      "outputs": [
        {
          "output_type": "execute_result",
          "data": {
            "text/plain": [
              "7.640404749686911"
            ]
          },
          "metadata": {
            "tags": []
          },
          "execution_count": 310
        }
      ]
    },
    {
      "metadata": {
        "id": "bC_EyNIFWL4V",
        "colab_type": "code",
        "colab": {}
      },
      "cell_type": "code",
      "source": [
        "a = [1,2,3]\n"
      ],
      "execution_count": 0,
      "outputs": []
    },
    {
      "metadata": {
        "id": "TJwV77cMWL4W",
        "colab_type": "code",
        "colab": {},
        "outputId": "2e1c30f7-c9d8-4559-b9d8-ced6ee0cb4a1"
      },
      "cell_type": "code",
      "source": [
        "norm(a)**2"
      ],
      "execution_count": 0,
      "outputs": [
        {
          "output_type": "execute_result",
          "data": {
            "text/plain": [
              "14.0"
            ]
          },
          "metadata": {
            "tags": []
          },
          "execution_count": 314
        }
      ]
    },
    {
      "metadata": {
        "id": "j36xEYohWL4Y",
        "colab_type": "code",
        "colab": {},
        "outputId": "bfb65ec2-3fed-43ba-a336-6fbaedd5b378"
      },
      "cell_type": "code",
      "source": [
        "plt.plot(total_er)\n"
      ],
      "execution_count": 0,
      "outputs": [
        {
          "output_type": "execute_result",
          "data": {
            "text/plain": [
              "[<matplotlib.lines.Line2D at 0x7f853e1f6ac8>]"
            ]
          },
          "metadata": {
            "tags": []
          },
          "execution_count": 334
        },
        {
          "output_type": "display_data",
          "data": {
            "image/png": "[encoded data removed]",
            "text/plain": [
              "<Figure size 432x288 with 1 Axes>"
            ]
          },
          "metadata": {
            "tags": []
          }
        }
      ]
    },
    {
      "metadata": {
        "id": "PmieKGCaWL4a",
        "colab_type": "code",
        "colab": {},
        "outputId": "a1111db0-9c5b-447a-b6b7-cb93a0f77e15"
      },
      "cell_type": "code",
      "source": [
        "plt.plot(Y_train)"
      ],
      "execution_count": 0,
      "outputs": [
        {
          "output_type": "execute_result",
          "data": {
            "text/plain": [
              "[<matplotlib.lines.Line2D at 0x7f853eac1ef0>]"
            ]
          },
          "metadata": {
            "tags": []
          },
          "execution_count": 82
        },
        {
          "output_type": "display_data",
          "data": {
            "image/png": "[encoded data removed]",
            "text/plain": [
              "<Figure size 432x288 with 1 Axes>"
            ]
          },
          "metadata": {
            "tags": []
          }
        }
      ]
    },
    {
      "metadata": {
        "id": "1BLA7NZSWL4e",
        "colab_type": "code",
        "colab": {}
      },
      "cell_type": "code",
      "source": [
        "Y_train"
      ],
      "execution_count": 0,
      "outputs": []
    },
    {
      "metadata": {
        "id": "WpaJ0RHhWL4f",
        "colab_type": "code",
        "colab": {}
      },
      "cell_type": "code",
      "source": [
        "np.linalg.norm(model)"
      ],
      "execution_count": 0,
      "outputs": []
    },
    {
      "metadata": {
        "id": "Gwp7cwHUWL4h",
        "colab_type": "code",
        "colab": {}
      },
      "cell_type": "code",
      "source": [
        "X_train[:,175].reshape(33,1)"
      ],
      "execution_count": 0,
      "outputs": []
    },
    {
      "metadata": {
        "id": "g186Y1chWL4k",
        "colab_type": "code",
        "colab": {}
      },
      "cell_type": "code",
      "source": [
        "YNEW = Y_train.T"
      ],
      "execution_count": 0,
      "outputs": []
    },
    {
      "metadata": {
        "id": "il9T3tsdWL4m",
        "colab_type": "code",
        "colab": {}
      },
      "cell_type": "code",
      "source": [
        "YNEW[:,0].reshape(1,1)"
      ],
      "execution_count": 0,
      "outputs": []
    },
    {
      "metadata": {
        "id": "eSUE1E_VWL4o",
        "colab_type": "code",
        "colab": {}
      },
      "cell_type": "code",
      "source": [
        "NN=NN(X_train[:,0].reshape(33,1),Y_train[0],layer_dims=[33,2,2,1],lr=0.01)"
      ],
      "execution_count": 0,
      "outputs": []
    },
    {
      "metadata": {
        "id": "IA88leSDWL4q",
        "colab_type": "code",
        "colab": {}
      },
      "cell_type": "code",
      "source": [
        "NN.feed_forward()"
      ],
      "execution_count": 0,
      "outputs": []
    },
    {
      "metadata": {
        "id": "IjmFfQ1cWL4r",
        "colab_type": "code",
        "colab": {}
      },
      "cell_type": "code",
      "source": [
        "NN.back_propagation()"
      ],
      "execution_count": 0,
      "outputs": []
    },
    {
      "metadata": {
        "id": "je1DeG6RWL4t",
        "colab_type": "code",
        "colab": {}
      },
      "cell_type": "code",
      "source": [
        "NN.weights.keys()"
      ],
      "execution_count": 0,
      "outputs": []
    },
    {
      "metadata": {
        "id": "_Hjb0gI-WL4v",
        "colab_type": "code",
        "colab": {}
      },
      "cell_type": "code",
      "source": [
        "NN.weight_update()"
      ],
      "execution_count": 0,
      "outputs": []
    },
    {
      "metadata": {
        "id": "epG2h9TAWL4w",
        "colab_type": "code",
        "colab": {}
      },
      "cell_type": "code",
      "source": [
        "NN.error()"
      ],
      "execution_count": 0,
      "outputs": []
    },
    {
      "metadata": {
        "id": "UGM4xPVGWL4z",
        "colab_type": "code",
        "colab": {}
      },
      "cell_type": "code",
      "source": [
        "NN.cache.keys()"
      ],
      "execution_count": 0,
      "outputs": []
    },
    {
      "metadata": {
        "scrolled": true,
        "id": "HZMsmBxRWL41",
        "colab_type": "code",
        "colab": {}
      },
      "cell_type": "code",
      "source": [
        "len(NN.weights)"
      ],
      "execution_count": 0,
      "outputs": []
    },
    {
      "metadata": {
        "id": "5xrFdv_DWL41",
        "colab_type": "code",
        "colab": {}
      },
      "cell_type": "code",
      "source": [
        "NN.delta#.keys()"
      ],
      "execution_count": 0,
      "outputs": []
    },
    {
      "metadata": {
        "id": "tYE3yQygWL43",
        "colab_type": "code",
        "colab": {}
      },
      "cell_type": "code",
      "source": [
        ""
      ],
      "execution_count": 0,
      "outputs": []
    },
    {
      "metadata": {
        "id": "Jv2tsZEaWL44",
        "colab_type": "code",
        "colab": {}
      },
      "cell_type": "code",
      "source": [
        ""
      ],
      "execution_count": 0,
      "outputs": []
    },
    {
      "metadata": {
        "id": "FKGpWaP8WL45",
        "colab_type": "code",
        "colab": {}
      },
      "cell_type": "code",
      "source": [
        ""
      ],
      "execution_count": 0,
      "outputs": []
    },
    {
      "metadata": {
        "id": "Ul9n2FssWL48",
        "colab_type": "code",
        "colab": {}
      },
      "cell_type": "code",
      "source": [
        ""
      ],
      "execution_count": 0,
      "outputs": []
    },
    {
      "metadata": {
        "id": "nS8hl2cdWL49",
        "colab_type": "code",
        "colab": {}
      },
      "cell_type": "code",
      "source": [
        ""
      ],
      "execution_count": 0,
      "outputs": []
    },
    {
      "metadata": {
        "id": "lP-w_5aRWL4_",
        "colab_type": "code",
        "colab": {}
      },
      "cell_type": "code",
      "source": [
        ""
      ],
      "execution_count": 0,
      "outputs": []
    },
    {
      "metadata": {
        "id": "pGO5VWCSWL5A",
        "colab_type": "code",
        "colab": {}
      },
      "cell_type": "code",
      "source": [
        ""
      ],
      "execution_count": 0,
      "outputs": []
    },
    {
      "metadata": {
        "id": "HFtE0laJWL5C",
        "colab_type": "code",
        "colab": {}
      },
      "cell_type": "code",
      "source": [
        ""
      ],
      "execution_count": 0,
      "outputs": []
    },
    {
      "metadata": {
        "id": "I89Gzl9YWL5D",
        "colab_type": "code",
        "colab": {}
      },
      "cell_type": "code",
      "source": [
        ""
      ],
      "execution_count": 0,
      "outputs": []
    },
    {
      "metadata": {
        "id": "P7oOtKJfWL5E",
        "colab_type": "code",
        "colab": {}
      },
      "cell_type": "code",
      "source": [
        ""
      ],
      "execution_count": 0,
      "outputs": []
    },
    {
      "metadata": {
        "id": "DHxhINbUWL5H",
        "colab_type": "code",
        "colab": {}
      },
      "cell_type": "code",
      "source": [
        ""
      ],
      "execution_count": 0,
      "outputs": []
    },
    {
      "metadata": {
        "id": "k55IIAE2WL5I",
        "colab_type": "code",
        "colab": {}
      },
      "cell_type": "code",
      "source": [
        ""
      ],
      "execution_count": 0,
      "outputs": []
    },
    {
      "metadata": {
        "id": "UZVrWFxTWL5K",
        "colab_type": "code",
        "colab": {}
      },
      "cell_type": "code",
      "source": [
        "NN.weights['W34'].shape"
      ],
      "execution_count": 0,
      "outputs": []
    },
    {
      "metadata": {
        "id": "jeHlSDjEWL5L",
        "colab_type": "code",
        "colab": {}
      },
      "cell_type": "code",
      "source": [
        "NN.dsigmoid(NN.cache['A1']).shape"
      ],
      "execution_count": 0,
      "outputs": []
    },
    {
      "metadata": {
        "id": "zK10ImlnWL5L",
        "colab_type": "code",
        "colab": {}
      },
      "cell_type": "code",
      "source": [
        "for l in range(1,0,-1):\n",
        "    print (l)"
      ],
      "execution_count": 0,
      "outputs": []
    },
    {
      "metadata": {
        "id": "-KXuT_jOWL5N",
        "colab_type": "code",
        "colab": {}
      },
      "cell_type": "code",
      "source": [
        "np.linalg.norm(2-1)"
      ],
      "execution_count": 0,
      "outputs": []
    },
    {
      "metadata": {
        "id": "vDnyp-DRWL5O",
        "colab_type": "code",
        "colab": {}
      },
      "cell_type": "code",
      "source": [
        ""
      ],
      "execution_count": 0,
      "outputs": []
    },
    {
      "metadata": {
        "id": "Jyde4OTbWL5Q",
        "colab_type": "code",
        "colab": {}
      },
      "cell_type": "code",
      "source": [
        "NN.weights['W34'].shape"
      ],
      "execution_count": 0,
      "outputs": []
    },
    {
      "metadata": {
        "id": "o0ya68D7WL5Q",
        "colab_type": "code",
        "colab": {}
      },
      "cell_type": "code",
      "source": [
        ""
      ],
      "execution_count": 0,
      "outputs": []
    },
    {
      "metadata": {
        "id": "oJSrKFdfWL5R",
        "colab_type": "code",
        "colab": {}
      },
      "cell_type": "code",
      "source": [
        "testar= NN.cache['A1']"
      ],
      "execution_count": 0,
      "outputs": []
    },
    {
      "metadata": {
        "id": "v6nGWKWoWL5S",
        "colab_type": "code",
        "colab": {}
      },
      "cell_type": "code",
      "source": [
        "NN.dsigmoid(testar)"
      ],
      "execution_count": 0,
      "outputs": []
    },
    {
      "metadata": {
        "id": "4_-c9G-GWL5U",
        "colab_type": "code",
        "colab": {}
      },
      "cell_type": "code",
      "source": [
        "NN.cache['Z1']"
      ],
      "execution_count": 0,
      "outputs": []
    },
    {
      "metadata": {
        "id": "BJDXFkvnWL5V",
        "colab_type": "code",
        "colab": {}
      },
      "cell_type": "code",
      "source": [
        "NN.cache['Z1'].shape"
      ],
      "execution_count": 0,
      "outputs": []
    },
    {
      "metadata": {
        "id": "VdqLPotVWL5W",
        "colab_type": "code",
        "colab": {}
      },
      "cell_type": "code",
      "source": [
        "NN.layer_forward(X_0,np.random.randn(8,33))"
      ],
      "execution_count": 0,
      "outputs": []
    },
    {
      "metadata": {
        "id": "HpfarTKfWL5Z",
        "colab_type": "code",
        "colab": {}
      },
      "cell_type": "code",
      "source": [
        "a =1 "
      ],
      "execution_count": 0,
      "outputs": []
    },
    {
      "metadata": {
        "id": "XM_wtphoWL5a",
        "colab_type": "code",
        "colab": {}
      },
      "cell_type": "code",
      "source": [
        "a =np.array([1])\n",
        "a.reshape(1,1).shape\n"
      ],
      "execution_count": 0,
      "outputs": []
    },
    {
      "metadata": {
        "id": "iy6Vj8ZtWL5b",
        "colab_type": "code",
        "colab": {}
      },
      "cell_type": "code",
      "source": [
        "A = 0\n",
        "Z = 1/(1+np.exp(-A))\n",
        "Z"
      ],
      "execution_count": 0,
      "outputs": []
    },
    {
      "metadata": {
        "id": "cQRwNuxNWL5c",
        "colab_type": "code",
        "colab": {}
      },
      "cell_type": "code",
      "source": [
        "for keys in NN.weights.keys():\n",
        "    print (keys)\n",
        "    print (NN.weights[str(keys)].shape)"
      ],
      "execution_count": 0,
      "outputs": []
    },
    {
      "metadata": {
        "id": "DQxaGv-RWL5e",
        "colab_type": "code",
        "colab": {}
      },
      "cell_type": "code",
      "source": [
        "test ={}\n",
        "NEXT =(1,0)\n",
        "K=3\n",
        "for n in range(1,K-1): # for the following layers the latter input = the previous's output\n",
        "            A,Z = NEXT\n",
        "            test['A'+str(n)] = A\n",
        "            test['Z'+str(n)] = Z\n",
        "            ANEXT= A+1\n",
        "            ZNEXT= Z+1\n",
        "            NEXT = (ANEXT,ZNEXT)\n",
        "            print (n)\n",
        "                "
      ],
      "execution_count": 0,
      "outputs": []
    },
    {
      "metadata": {
        "id": "5096ZHNaWL5f",
        "colab_type": "code",
        "colab": {}
      },
      "cell_type": "code",
      "source": [
        "test"
      ],
      "execution_count": 0,
      "outputs": []
    },
    {
      "metadata": {
        "id": "Q-0j5RgtWL5g",
        "colab_type": "code",
        "colab": {}
      },
      "cell_type": "code",
      "source": [
        "AL,ZL = NEXT\n",
        "test['AL'] = AL\n",
        "test['ZL'] = ZL"
      ],
      "execution_count": 0,
      "outputs": []
    },
    {
      "metadata": {
        "id": "kWCuGJBjWL5h",
        "colab_type": "code",
        "colab": {}
      },
      "cell_type": "code",
      "source": [
        "test"
      ],
      "execution_count": 0,
      "outputs": []
    },
    {
      "metadata": {
        "id": "5Mnd5HisWL5i",
        "colab_type": "code",
        "colab": {}
      },
      "cell_type": "code",
      "source": [
        "for i in range(1,len(trlist)):\n",
        "    print (i)"
      ],
      "execution_count": 0,
      "outputs": []
    },
    {
      "metadata": {
        "id": "wx7j8Xx8WL5l",
        "colab_type": "code",
        "colab": {}
      },
      "cell_type": "code",
      "source": [
        "trlist =[1,2,3]"
      ],
      "execution_count": 0,
      "outputs": []
    }
  ]
}